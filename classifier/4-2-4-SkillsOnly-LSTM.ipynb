{
 "cells": [
  {
   "cell_type": "code",
   "execution_count": 1,
   "metadata": {
    "scrolled": true
   },
   "outputs": [
    {
     "name": "stdout",
     "output_type": "stream",
     "text": [
      "20861874\n",
      "0\n",
      "skipgram, punctuation_marks, stoppwords, multiword, lower_case, vector_dim True False False False False 100\n",
      "init /home/franzi/Documents/models/no_pm_no_sw_vecDim100/skip_gram_model.model\n",
      "loading existing w2v model from  /home/franzi/Documents/models/no_pm_no_sw_vecDim100/skip_gram_model.model\n",
      "using data from  /home/franzi/Documents/data/data_balanced_4_vecDim100\n",
      "loading data...\n",
      "13963 13963 12053 12053 23860 23860\n",
      "took:  3.479351043701172\n"
     ]
    }
   ],
   "source": [
    "import sys\n",
    "import os\n",
    "sys.path.append('/home/franzi/anzeigendaten/python_base/skillextraktion/fh_ma')\n",
    "sys.path.append('/home/franzi/anzeigendaten/EnvPython')\n",
    "import prepare_training_data\n",
    "from labels import *\n",
    "import time\n",
    "import warnings\n",
    "warnings.filterwarnings('ignore')\n",
    "\n",
    "from sklearn.utils import shuffle\n",
    "\n",
    "start = time.time()\n",
    "x_train, y_train, x_test, y_test, _, _, test_afks, _ = prepare_training_data.get_training_data(balanced=True)\n",
    "print('took: ',time.time()-start)"
   ]
  },
  {
   "cell_type": "code",
   "execution_count": null,
   "metadata": {},
   "outputs": [],
   "source": [
    "y_label = prepare_training_data.one_hot_to_labels(y_test)"
   ]
  },
  {
   "cell_type": "code",
   "execution_count": 4,
   "metadata": {},
   "outputs": [
    {
     "name": "stdout",
     "output_type": "stream",
     "text": [
      "(12053, 9, 100)\n",
      "(12053, 8)\n",
      "(4472, 9, 100)\n",
      "(4472, 8)\n"
     ]
    }
   ],
   "source": [
    "import numpy as np\n",
    "clean_y_test = []\n",
    "clean_x_test = []\n",
    "clean_afks = []\n",
    "\n",
    "print(x_test.shape)\n",
    "print(y_test.shape)\n",
    "\n",
    "for i in range(len(y_test)):\n",
    "    if(y_label[i] != 7):\n",
    "        clean_x_test.append(x_test[i])\n",
    "        clean_y_test.append(y_test[i])\n",
    "        clean_afks.append(test_afks[i])\n",
    "y_test = np.array(clean_y_test)\n",
    "x_test = np.array(clean_x_test)\n",
    "test_afks = clean_afks\n",
    "print(x_test.shape)\n",
    "print(y_test.shape)"
   ]
  },
  {
   "cell_type": "code",
   "execution_count": 6,
   "metadata": {},
   "outputs": [],
   "source": [
    "from tensorflow.keras import *"
   ]
  },
  {
   "cell_type": "code",
   "execution_count": 7,
   "metadata": {},
   "outputs": [
    {
     "name": "stderr",
     "output_type": "stream",
     "text": [
      "2020-08-12 16:16:06 WARNING: From /home/franzi/.local/lib/python3.6/site-packages/tensorflow/python/ops/init_ops.py:1251: calling VarianceScaling.__init__ (from tensorflow.python.ops.init_ops) with dtype is deprecated and will be removed in a future version.\n",
      "Instructions for updating:\n",
      "Call initializer instance with the dtype argument instead of passing it to the constructor\n"
     ]
    },
    {
     "name": "stdout",
     "output_type": "stream",
     "text": [
      "Build model...\n",
      "4472/4472 [==============================] - 7s 2ms/sample - loss: 13.4783 - acc: 0.0250\n",
      "Train on 13963 samples, validate on 4472 samples\n"
     ]
    },
    {
     "name": "stderr",
     "output_type": "stream",
     "text": [
      "2020-08-12 16:16:16 WARNING: From /home/franzi/.local/lib/python3.6/site-packages/tensorflow/python/ops/math_grad.py:1250: add_dispatch_support.<locals>.wrapper (from tensorflow.python.ops.array_ops) is deprecated and will be removed in a future version.\n",
      "Instructions for updating:\n",
      "Use tf.where in 2.0, which has the same broadcast rule as np.where\n"
     ]
    },
    {
     "name": "stdout",
     "output_type": "stream",
     "text": [
      "Epoch 1/5\n",
      "13963/13963 [==============================] - 58s 4ms/sample - loss: 3.4792 - acc: 0.6572 - val_loss: 1.4166 - val_acc: 0.6670\n",
      "Epoch 2/5\n",
      "13963/13963 [==============================] - 55s 4ms/sample - loss: 1.0482 - acc: 0.7125 - val_loss: 0.9406 - val_acc: 0.7182\n",
      "Epoch 3/5\n",
      "13963/13963 [==============================] - 55s 4ms/sample - loss: 0.8609 - acc: 0.7463 - val_loss: 0.9224 - val_acc: 0.7288\n",
      "Epoch 4/5\n",
      "13963/13963 [==============================] - 54s 4ms/sample - loss: 0.8077 - acc: 0.7643 - val_loss: 0.8272 - val_acc: 0.7690\n",
      "Epoch 5/5\n",
      "13963/13963 [==============================] - 59s 4ms/sample - loss: 0.7524 - acc: 0.7829 - val_loss: 0.8425 - val_acc: 0.7433\n"
     ]
    }
   ],
   "source": [
    "# Build the model\n",
    "print('Build model...')\n",
    "model = Sequential()\n",
    "model.add(layers.LSTM(256, return_sequences=True, input_shape=(x_train.shape[1],x_train.shape[2])))\n",
    "model.add(layers.Dropout(0.5))\n",
    "model.add(layers.BatchNormalization())\n",
    "model.add(layers.LSTM(512, return_sequences=True, kernel_regularizer=regularizers.l2(0.01)))\n",
    "model.add(layers.Dropout(0.5))\n",
    "model.add(layers.BatchNormalization())\n",
    "model.add(layers.LSTM(256, kernel_regularizer=regularizers.l2(0.01)))\n",
    "model.add(layers.Dropout(0.5))\n",
    "model.add(layers.Dense(256))\n",
    "model.add(layers.Dense(units=len(labels)))\n",
    "model.add(layers.Activation('softmax'))\n",
    "model.compile(loss='categorical_crossentropy', optimizer='adam', metrics=['acc'])\n",
    "\n",
    "model.evaluate(x=x_test, y=y_test)\n",
    "\n",
    "batch_size=64\n",
    "history = model.fit(x_train, y_train, batch_size=batch_size, shuffle=True, epochs=5, validation_data=(x_test, y_test))"
   ]
  },
  {
   "cell_type": "code",
   "execution_count": 8,
   "metadata": {},
   "outputs": [
    {
     "data": {
      "image/png": "[encoded data removed]",
      "text/plain": [
       "<Figure size 432x288 with 1 Axes>"
      ]
     },
     "metadata": {
      "needs_background": "light"
     },
     "output_type": "display_data"
    }
   ],
   "source": [
    "from matplotlib import pyplot as plt\n",
    "plt.plot(history.history['acc'])\n",
    "plt.plot(history.history['val_acc'])\n",
    "plt.title('model accuracy')\n",
    "plt.ylabel('accuracy')\n",
    "plt.ylim(0.65,0.9)\n",
    "plt.xlabel('epoch')\n",
    "plt.legend(['train', 'val'], loc='upper left')\n",
    "plt.show()\n"
   ]
  },
  {
   "cell_type": "code",
   "execution_count": 9,
   "metadata": {},
   "outputs": [],
   "source": [
    "# predict test data\n",
    "y_pred = model.predict(x_test)"
   ]
  },
  {
   "cell_type": "code",
   "execution_count": null,
   "metadata": {},
   "outputs": [],
   "source": [
    "import numpy as np\n",
    "# convert one hot to labels for test data\n",
    "pred_label = prepare_training_data.one_hot_to_labels(y_pred)\n",
    "true_label = prepare_training_data.one_hot_to_labels(y_test)\n",
    "\n",
    "print('class distribution test data + predicted')\n",
    "print('-----------------------------------')\n",
    "for i, label in enumerate(labels):\n",
    "    print(i,label,':',np.sum(true_label==i), 'pred: ',np.sum(pred_label==i))"
   ]
  },
  {
   "cell_type": "code",
   "execution_count": 11,
   "metadata": {},
   "outputs": [
    {
     "name": "stdout",
     "output_type": "stream",
     "text": [
      "|           |   Ausbildung |    Beruf |   allgemein |   berufsspez |   Sprache |   Technologie |   Softskill |\n",
      "|-----------+--------------+----------+-------------+--------------+-----------+---------------+-------------|\n",
      "| precision |     0.856678 | 0.305085 |    0.507375 |     0.701689 |  0.971698 |      0.723    |    0.900356 |\n",
      "| recall    |     0.952899 | 0.28125  |    0.482468 |     0.699065 |  0.932127 |      0.932903 |    0.704735 |\n",
      "| f1        |     0.90223  | 0.292683 |    0.494608 |     0.700375 |  0.951501 |      0.814648 |    0.790625 |\n",
      "f1 average:  0.7066670774130966\n",
      "Precision average:  0.7094113488431252\n",
      "recall average:  0.7122068161666772\n",
      "acc 0.7432915921288015\n"
     ]
    }
   ],
   "source": [
    "# Calc metrics for test data\n",
    "import sklearn\n",
    "from sklearn.metrics import precision_score, recall_score\n",
    "from tabulate import tabulate\n",
    "label_list = list(labels.keys())\n",
    "\n",
    "headers = [l for l in label_list ]\n",
    "headers = [' '] + headers\n",
    "\n",
    "table=[['precision'] + list(precision_score(true_label, pred_label, average=None)), \n",
    "       ['recall']+list(recall_score(true_label, pred_label, average=None)), \n",
    "       ['f1']+ list(sklearn.metrics.f1_score(true_label, pred_label, average=None))]\n",
    "\n",
    "print(tabulate(table, headers=headers, tablefmt='orgtbl'))\n",
    "f1 = sklearn.metrics.f1_score(true_label, pred_label, average=None)\n",
    "print('f1 average: ',sum(sklearn.metrics.f1_score(true_label, pred_label, average=None))/len(list(precision_score(true_label, pred_label, average=None))))\n",
    "print('Precision average: ',sum(precision_score(true_label, pred_label, average=None)/7))\n",
    "print('recall average: ',sum(recall_score(true_label, pred_label, average=None)/7))\n",
    "print('acc', sklearn.metrics.accuracy_score(true_label, pred_label))"
   ]
  },
  {
   "cell_type": "code",
   "execution_count": 12,
   "metadata": {},
   "outputs": [
    {
     "data": {
      "text/plain": [
       "<matplotlib.axes._subplots.AxesSubplot at 0x7f26099cdba8>"
      ]
     },
     "execution_count": 12,
     "metadata": {},
     "output_type": "execute_result"
    },
    {
     "data": {
      "image/png": "[encoded data removed]",
      "text/plain": [
       "<Figure size 720x504 with 2 Axes>"
      ]
     },
     "metadata": {
      "needs_background": "light"
     },
     "output_type": "display_data"
    }
   ],
   "source": [
    "# Create Confusion Matrix\n",
    "\n",
    "import sklearn\n",
    "import seaborn as sn\n",
    "import pandas as pd\n",
    "import matplotlib.pyplot as plt\n",
    "\n",
    "labelsi = list(labels)\n",
    "\n",
    "cm = sklearn.metrics.confusion_matrix(true_label, pred_label)\n",
    "df_cm = pd.DataFrame(cm, labelsi[:7],columns = labelsi[:7])\n",
    "plt.figure(figsize = (10,7))\n",
    "plt.ylabel('Eingabe')\n",
    "plt.xlabel('Ausgabe')\n",
    "sn.heatmap(df_cm, annot=True,fmt='g')"
   ]
  }
 ],
 "metadata": {
  "kernelspec": {
   "display_name": "Python 3",
   "language": "python",
   "name": "python3"
  },
  "language_info": {
   "codemirror_mode": {
    "name": "ipython",
    "version": 3
   },
   "file_extension": ".py",
   "mimetype": "text/x-python",
   "name": "python",
   "nbconvert_exporter": "python",
   "pygments_lexer": "ipython3",
   "version": "3.6.9"
  }
 },
 "nbformat": 4,
 "nbformat_minor": 4
}
