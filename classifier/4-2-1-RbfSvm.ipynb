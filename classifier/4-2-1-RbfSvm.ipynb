{
 "cells": [
  {
   "cell_type": "code",
   "execution_count": 1,
   "metadata": {
    "scrolled": true
   },
   "outputs": [
    {
     "name": "stdout",
     "output_type": "stream",
     "text": [
      "20861874\n",
      "0\n",
      "skipgram, punctuation_marks, stoppwords, multiword, lower_case, vector_dim False False False False False 100\n",
      "init /home/franzi/Documents/models/no_pm_no_sw_vecDim100/cbow_model.model\n",
      "loading existing w2v model from  /home/franzi/Documents/models/no_pm_no_sw_vecDim100/cbow_model.model\n",
      "using data from  /home/franzi/Documents/data/data_4_vecDim100_cbow\n",
      "loading data...\n",
      "37163 37163 11805 11805 0 0\n",
      "took:  3.4824206829071045\n"
     ]
    }
   ],
   "source": [
    "import sys\n",
    "import os\n",
    "sys.path.append('/home/franzi/anzeigendaten/python_base/skillextraktion/fh_ma')\n",
    "sys.path.append('/home/franzi/anzeigendaten/EnvPython')\n",
    "import prepare_training_data\n",
    "from labels import *\n",
    "import time\n",
    "import warnings\n",
    "warnings.filterwarnings('ignore')\n",
    "\n",
    "import numpy as np\n",
    "np.set_printoptions(precision=3)\n",
    "%precision 3\n",
    "\n",
    "from sklearn.utils import shuffle\n",
    "\n",
    "start = time.time()\n",
    "x_train, y_train, x_test, y_test, test_afks, features = prepare_training_data.get_training_data()\n",
    "print('took: ',time.time()-start)"
   ]
  },
  {
   "cell_type": "code",
   "execution_count": null,
   "metadata": {},
   "outputs": [],
   "source": [
    "import numpy as np\n",
    "label_y = prepare_training_data.one_hot_to_labels(y_train)"
   ]
  },
  {
   "cell_type": "code",
   "execution_count": 4,
   "metadata": {},
   "outputs": [],
   "source": [
    "from tensorflow.keras import *"
   ]
  },
  {
   "cell_type": "code",
   "execution_count": 5,
   "metadata": {},
   "outputs": [
    {
     "name": "stdout",
     "output_type": "stream",
     "text": [
      "Build model...\n",
      "(37163, 9, 100)\n",
      "(37163, 900)\n"
     ]
    },
    {
     "data": {
      "text/plain": [
       "SVC(C=1, break_ties=False, cache_size=200, class_weight=None, coef0=0.0,\n",
       "    decision_function_shape='ovr', degree=3, gamma='auto', kernel='rbf',\n",
       "    max_iter=-1, probability=False, random_state=None, shrinking=True,\n",
       "    tol=0.001, verbose=False)"
      ]
     },
     "execution_count": 5,
     "metadata": {},
     "output_type": "execute_result"
    }
   ],
   "source": [
    "# Build the model\n",
    "print('Build model...')\n",
    "from sklearn.svm import SVC\n",
    "clf = SVC(gamma='auto', C=1)\n",
    "nsamples, nx, ny = x_train.shape\n",
    "print(x_train.shape)\n",
    "x_train2 = x_train.reshape((nsamples,nx*ny))\n",
    "print(x_train2.shape)\n",
    "y_train2 = prepare_training_data.one_hot_to_labels(y_train)\n",
    "clf.fit(x_train2, y_train2)"
   ]
  },
  {
   "cell_type": "code",
   "execution_count": 7,
   "metadata": {},
   "outputs": [
    {
     "name": "stdout",
     "output_type": "stream",
     "text": [
      "(11805, 9, 100)\n",
      "(11805, 900)\n"
     ]
    }
   ],
   "source": [
    "\n",
    "nsamples, nx, ny = x_test.shape\n",
    "print(x_test.shape)\n",
    "x_test2 = x_test.reshape((nsamples,nx*ny))\n",
    "print(x_test2.shape)\n",
    "# predict test data\n",
    "y_pred = clf.predict(x_test2)"
   ]
  },
  {
   "cell_type": "code",
   "execution_count": null,
   "metadata": {},
   "outputs": [],
   "source": [
    "import numpy as np\n",
    "# convert one hot to labels for test data\n",
    "pred_label = y_pred\n",
    "true_label = prepare_training_data.one_hot_to_labels(y_test)"
   ]
  },
  {
   "cell_type": "code",
   "execution_count": 9,
   "metadata": {},
   "outputs": [
    {
     "name": "stdout",
     "output_type": "stream",
     "text": [
      "|           |   Ausbildung |   Beruf |   allgemein |   berufsspez |   Sprache |   Technologie |   Softskill |   noSkill |\n",
      "|-----------+--------------+---------+-------------+--------------+-----------+---------------+-------------+-----------|\n",
      "| precision |    0.846154  |       0 |   0.8125    |   0.363636   | 1         |     0.909091  |   0.727273  |  0.630537 |\n",
      "| recall    |    0.0203704 |       0 |   0.0182841 |   0.00379867 | 0.0181818 |     0.0264901 |   0.0149813 |  0.998918 |\n",
      "| f1        |    0.039783  |       0 |   0.0357634 |   0.0075188  | 0.0357143 |     0.0514801 |   0.0293578 |  0.773086 |\n",
      "f1 average:  0.12158796580459139\n",
      "f1 average:  0.027317176620869715\n",
      "Precision average:  0.6611488341233317\n",
      "Recall average:  0.13762807997216928\n",
      "acc 0.6315967810249894\n"
     ]
    }
   ],
   "source": [
    "# Calc metrics for test data\n",
    "import sklearn\n",
    "from sklearn.metrics import precision_score, recall_score\n",
    "from tabulate import tabulate\n",
    "label_list = list(labels.keys())\n",
    "\n",
    "headers = [l for l in label_list ]\n",
    "headers = [' '] + headers\n",
    "\n",
    "table=[['precision'] + list(precision_score(true_label, pred_label, average=None)), \n",
    "       ['recall']+list(recall_score(true_label, pred_label, average=None)), \n",
    "       ['f1']+ list(sklearn.metrics.f1_score(true_label, pred_label, average=None))]\n",
    "\n",
    "print(tabulate(table, headers=headers, tablefmt='orgtbl'))\n",
    "f1 = sklearn.metrics.f1_score(true_label, pred_label, average=None)\n",
    "f1 = np.delete(f1, 4)\n",
    "f1 = np.delete(f1, 6)\n",
    "print('f1 average: ',sum(sklearn.metrics.f1_score(true_label, pred_label, average=None))/len(list(precision_score(true_label, pred_label, average=None))))\n",
    "print('f1 average: ',sum(f1)/6)\n",
    "print('Precision average: ',sum(precision_score(true_label, pred_label, average=None)/8))\n",
    "print('Recall average: ',sum(recall_score(true_label, pred_label, average=None)/8))\n",
    "print('acc', sklearn.metrics.accuracy_score(true_label, pred_label))"
   ]
  },
  {
   "cell_type": "code",
   "execution_count": 10,
   "metadata": {},
   "outputs": [
    {
     "data": {
      "text/plain": [
       "<matplotlib.axes._subplots.AxesSubplot at 0x7f96eff02ac8>"
      ]
     },
     "execution_count": 10,
     "metadata": {},
     "output_type": "execute_result"
    },
    {
     "data": {
      "image/png": "[encoded data removed]",
      "text/plain": [
       "<Figure size 720x504 with 2 Axes>"
      ]
     },
     "metadata": {
      "needs_background": "light"
     },
     "output_type": "display_data"
    }
   ],
   "source": [
    "# Create Confusion Matrix\n",
    "\n",
    "import sklearn\n",
    "import seaborn as sn\n",
    "import pandas as pd\n",
    "import matplotlib.pyplot as plt\n",
    "\n",
    "cm = sklearn.metrics.confusion_matrix(true_label, pred_label)\n",
    "df_cm = pd.DataFrame(cm, labels,columns = labels)\n",
    "plt.figure(figsize = (10,7))\n",
    "plt.ylabel('Eingabe')\n",
    "plt.xlabel('Ausgabe')\n",
    "sn.heatmap(df_cm, annot=True,fmt='g')"
   ]
  },
  {
   "cell_type": "code",
   "execution_count": 11,
   "metadata": {},
   "outputs": [
    {
     "name": "stdout",
     "output_type": "stream",
     "text": [
      "correctly labeled noSkills:  7388\n"
     ]
    }
   ],
   "source": [
    "# clean noSkill for evaluation\n",
    "clean_y_pred = []\n",
    "clean_y_test = []\n",
    "true_noSkills = 0\n",
    "clean_x_test = []\n",
    "afks = []\n",
    "\n",
    "for i in range(len(y_test)):\n",
    "    if(true_label[i] != 7 or pred_label[i] != 7):\n",
    "        clean_x_test.append(x_test[i])\n",
    "        clean_y_pred.append(pred_label[i])\n",
    "        clean_y_test.append(true_label[i])\n",
    "        afks.append(test_afks[i])\n",
    "    else:\n",
    "        true_noSkills += 1\n",
    "pred_label = clean_y_pred\n",
    "true_label = clean_y_test\n",
    "print('correctly labeled noSkills: ', true_noSkills)"
   ]
  },
  {
   "cell_type": "code",
   "execution_count": 12,
   "metadata": {},
   "outputs": [
    {
     "data": {
      "text/plain": [
       "<matplotlib.axes._subplots.AxesSubplot at 0x7f96eff02ba8>"
      ]
     },
     "execution_count": 12,
     "metadata": {},
     "output_type": "execute_result"
    },
    {
     "data": {
      "image/png": "[encoded data removed]",
      "text/plain": [
       "<Figure size 720x504 with 2 Axes>"
      ]
     },
     "metadata": {
      "needs_background": "light"
     },
     "output_type": "display_data"
    }
   ],
   "source": [
    "# Create Confusion Matrix\n",
    "\n",
    "import sklearn\n",
    "import seaborn as sn\n",
    "import pandas as pd\n",
    "import matplotlib.pyplot as plt\n",
    "\n",
    "cm = sklearn.metrics.confusion_matrix(true_label, pred_label)\n",
    "df_cm = pd.DataFrame(cm, labels,columns = labels)\n",
    "plt.figure(figsize = (10,7))\n",
    "plt.ylabel('Eingabe')\n",
    "plt.xlabel('Ausgabe')\n",
    "sn.heatmap(df_cm, annot=True,fmt='g')"
   ]
  }
 ],
 "metadata": {
  "kernelspec": {
   "display_name": "Python 3",
   "language": "python",
   "name": "python3"
  },
  "language_info": {
   "codemirror_mode": {
    "name": "ipython",
    "version": 3
   },
   "file_extension": ".py",
   "mimetype": "text/x-python",
   "name": "python",
   "nbconvert_exporter": "python",
   "pygments_lexer": "ipython3",
   "version": "3.6.9"
  }
 },
 "nbformat": 4,
 "nbformat_minor": 4
}
