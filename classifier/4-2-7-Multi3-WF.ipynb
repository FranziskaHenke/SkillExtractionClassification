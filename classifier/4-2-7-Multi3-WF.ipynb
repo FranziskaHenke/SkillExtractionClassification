{
 "cells": [
  {
   "cell_type": "code",
   "execution_count": 1,
   "metadata": {
    "scrolled": true
   },
   "outputs": [
    {
     "name": "stdout",
     "output_type": "stream",
     "text": [
      "20861874\n",
      "0\n",
      "skipgram, punctuation_marks, stoppwords, multiword, lower_case, vector_dim True False False False False 100\n",
      "init /home/franzi/Documents/models/no_pm_no_sw_vecDim100/skip_gram_model.model\n",
      "loading existing w2v model from  /home/franzi/Documents/models/no_pm_no_sw_vecDim100/skip_gram_model.model\n",
      "using data from  /home/franzi/Documents/data/data_bg_pos_wFeatures_4_vecDim100\n",
      "loading data...\n",
      "37823 37823 12053 12053 0 0\n",
      "took:  4.172369003295898\n"
     ]
    }
   ],
   "source": [
    "import sys\n",
    "import os\n",
    "sys.path.append('/home/franzi/anzeigendaten/python_base/skillextraktion/fh_ma')\n",
    "sys.path.append('/home/franzi/anzeigendaten/EnvPython')\n",
    "import prepare_training_data\n",
    "from labels import *\n",
    "import time\n",
    "import warnings\n",
    "warnings.filterwarnings('ignore')\n",
    "\n",
    "from sklearn.utils import shuffle\n",
    "\n",
    "start = time.time()\n",
    "x_train, y_train, x_test, y_test, test_afks, features = prepare_training_data.get_training_data(berufsgruppen=True, pos=True, word_features=True)\n",
    "print('took: ',time.time()-start)"
   ]
  },
  {
   "cell_type": "code",
   "execution_count": 3,
   "metadata": {
    "scrolled": true
   },
   "outputs": [
    {
     "name": "stdout",
     "output_type": "stream",
     "text": [
      "[[0.         0.         0.         0.         1.         0.\n",
      "  0.         0.         1.         0.         1.         0.00033559]]\n",
      "[[1. 0. 0. 0. 0. 0. 0. 0. 0. 0. 0. 0. 0. 0. 0. 0. 0. 0. 0. 0. 0. 0. 0. 0.\n",
      "  0. 0. 0. 0. 0. 0. 0. 0. 0. 0. 0. 0. 0. 0. 0. 0. 0. 0. 0. 0. 0. 0. 0. 0.\n",
      "  0. 0. 0. 0. 0. 0.]]\n",
      "[0. 0. 0. 0. 0. 0. 0. 1.]\n"
     ]
    }
   ],
   "source": [
    "import numpy as np\n",
    "for i,f in enumerate(features):\n",
    "    features[i] = np.array(f)\n",
    "pos_test, wf_test, bg_test, pos_train, wf_train, bg_train,  _, _, _ = features\n",
    "\n",
    "print(wf_train[0]) # Abgeschlossene\n",
    "print(pos_train[0]) # ADJA first\n",
    "print(y_train[0])"
   ]
  },
  {
   "cell_type": "code",
   "execution_count": 5,
   "metadata": {},
   "outputs": [],
   "source": [
    "from tensorflow.keras import *"
   ]
  },
  {
   "cell_type": "code",
   "execution_count": 6,
   "metadata": {},
   "outputs": [],
   "source": [
    "wf_test = np.reshape(wf_test, (wf_test.shape[0], wf_test.shape[2]))\n",
    "wf_train = np.reshape(wf_train, (wf_train.shape[0], wf_train.shape[2]))\n",
    "pos_test = np.reshape(pos_test, (pos_test.shape[0], pos_test.shape[2]))\n",
    "pos_train = np.reshape(pos_train, (pos_train.shape[0], pos_train.shape[2]))"
   ]
  },
  {
   "cell_type": "code",
   "execution_count": 7,
   "metadata": {},
   "outputs": [
    {
     "name": "stderr",
     "output_type": "stream",
     "text": [
      "2020-08-20 12:40:34 WARNING: From /home/franzi/.local/lib/python3.6/site-packages/tensorflow/python/ops/init_ops.py:1251: calling VarianceScaling.__init__ (from tensorflow.python.ops.init_ops) with dtype is deprecated and will be removed in a future version.\n",
      "Instructions for updating:\n",
      "Call initializer instance with the dtype argument instead of passing it to the constructor\n"
     ]
    },
    {
     "name": "stdout",
     "output_type": "stream",
     "text": [
      "Build model...\n",
      "12053/12053 [==============================] - 26s 2ms/sample - loss: 2.0945 - acc: 0.0233\n",
      "Train on 37823 samples, validate on 12053 samples\n"
     ]
    },
    {
     "name": "stderr",
     "output_type": "stream",
     "text": [
      "2020-08-20 12:41:04 WARNING: From /home/franzi/.local/lib/python3.6/site-packages/tensorflow/python/ops/math_grad.py:1250: add_dispatch_support.<locals>.wrapper (from tensorflow.python.ops.array_ops) is deprecated and will be removed in a future version.\n",
      "Instructions for updating:\n",
      "Use tf.where in 2.0, which has the same broadcast rule as np.where\n"
     ]
    },
    {
     "name": "stdout",
     "output_type": "stream",
     "text": [
      "Epoch 1/5\n",
      "37823/37823 [==============================] - 214s 6ms/sample - loss: 0.7689 - acc: 0.7217 - val_loss: 0.6577 - val_acc: 0.7630\n",
      "Epoch 2/5\n",
      "37823/37823 [==============================] - 209s 6ms/sample - loss: 0.5898 - acc: 0.7857 - val_loss: 0.5093 - val_acc: 0.8176\n",
      "Epoch 3/5\n",
      "37823/37823 [==============================] - 209s 6ms/sample - loss: 0.4781 - acc: 0.8305 - val_loss: 0.4553 - val_acc: 0.8386\n",
      "Epoch 4/5\n",
      "37823/37823 [==============================] - 206s 5ms/sample - loss: 0.4304 - acc: 0.8506 - val_loss: 0.4357 - val_acc: 0.8513\n",
      "Epoch 5/5\n",
      "37823/37823 [==============================] - 211s 6ms/sample - loss: 0.4056 - acc: 0.8573 - val_loss: 0.4669 - val_acc: 0.8382\n"
     ]
    }
   ],
   "source": [
    "# Build the model\n",
    "print('Build model...')\n",
    "\n",
    "vector_window_input = layers.Input(shape=(x_train.shape[1], x_train.shape[2]))\n",
    "vw = layers.LSTM(256, return_sequences=True)(vector_window_input)\n",
    "vw = layers.Dropout(0.5)(vw)\n",
    "vw = layers.BatchNormalization()(vw)\n",
    "vw = layers.LSTM(512, return_sequences=True)(vw)\n",
    "vw = layers.Dropout(0.5)(vw)\n",
    "vw = layers.BatchNormalization()(vw)\n",
    "vw = layers.LSTM(512)(vw)\n",
    "vw = layers.Dropout(0.5)(vw)\n",
    "vw = layers.BatchNormalization()(vw)\n",
    "vw = layers.Dense(128, activation='relu')(vw)\n",
    "\n",
    "wf_input = layers.Input(shape=(len(wf_train[0])))\n",
    "f = layers.Dense(512, activation='relu')(wf_input)\n",
    "f = layers.Dropout(0.5)(f)\n",
    "f = layers.Dense(256, activation='relu')(f)\n",
    "\n",
    "pos_input = layers.Input(shape=(len(pos_train[0])))\n",
    "p = layers.Dense(512, activation='relu')(pos_input)\n",
    "p = layers.Dropout(0.5)(p)\n",
    "p = layers.Dense(256, activation='relu')(p)\n",
    "\n",
    "bg_input = layers.Input(shape=(len(bg_train[0])))\n",
    "b = layers.Dense(512, activation='relu')(bg_input)\n",
    "b = layers.Dropout(0.5)(b)\n",
    "b = layers.Dense(256, activation='relu')(b)\n",
    "\n",
    "x = layers.concatenate([vw, f, p, b])\n",
    "x = layers.Dense(128, activation='relu')(x)\n",
    "x = layers.Dense(64, activation='relu')(x)\n",
    "x = layers.Dense(32, activation='relu')(x)\n",
    "\n",
    "out = layers.Dense(units=len(labels), activation='softmax')(x)\n",
    "all_model = models.Model(inputs=[vector_window_input, wf_input, pos_input, bg_input], outputs=[out])\n",
    "\n",
    "all_model.compile(loss='categorical_crossentropy', optimizer='adam', metrics=['acc'])\n",
    "\n",
    "all_model.evaluate(x=[x_test, wf_test, pos_test, bg_test], y=y_test)\n",
    "\n",
    "batch_size=32\n",
    "history = all_model.fit([x_train, wf_train, pos_train, bg_train], y_train, batch_size=batch_size, shuffle=True, epochs=5, validation_data=([x_test, wf_test, pos_test, bg_test], y_test))"
   ]
  },
  {
   "cell_type": "code",
   "execution_count": 8,
   "metadata": {},
   "outputs": [
    {
     "data": {
      "image/png": "[encoded data removed]",
      "text/plain": [
       "<Figure size 432x288 with 1 Axes>"
      ]
     },
     "metadata": {
      "needs_background": "light"
     },
     "output_type": "display_data"
    }
   ],
   "source": [
    "from matplotlib import pyplot as plt\n",
    "plt.plot(np.arange(1, len(history.history['acc'])+1), history.history['acc'])\n",
    "plt.plot(np.arange(1, len(history.history['acc'])+1), history.history['val_acc'])\n",
    "plt.title('model accuracy')\n",
    "plt.ylabel('accuracy')\n",
    "plt.xlabel('epoch')\n",
    "plt.ylim(0,1)\n",
    "plt.xticks(np.arange(1, len(history.history['acc'])+1))\n",
    "plt.legend(['train', 'val'], loc='upper left')\n",
    "plt.show()\n"
   ]
  },
  {
   "cell_type": "code",
   "execution_count": 9,
   "metadata": {},
   "outputs": [],
   "source": [
    "# predict test data\n",
    "all_y_pred = all_model.predict([x_test, wf_test, pos_test, bg_test])\n",
    "all_pred_label = prepare_training_data.one_hot_to_labels(all_y_pred)"
   ]
  },
  {
   "cell_type": "code",
   "execution_count": null,
   "metadata": {},
   "outputs": [],
   "source": [
    "import numpy as np\n",
    "# convert one hot to labels for test data\n",
    "true_label = prepare_training_data.one_hot_to_labels(y_test)"
   ]
  },
  {
   "cell_type": "code",
   "execution_count": 11,
   "metadata": {},
   "outputs": [
    {
     "name": "stdout",
     "output_type": "stream",
     "text": [
      "Build model...\n",
      "Train on 37823 samples, validate on 12053 samples\n",
      "Epoch 1/5\n",
      "37823/37823 [==============================] - 158s 4ms/sample - loss: 0.8396 - acc: 0.6886 - val_loss: 0.6484 - val_acc: 0.7629\n",
      "Epoch 2/5\n",
      "37823/37823 [==============================] - 144s 4ms/sample - loss: 0.5310 - acc: 0.8101 - val_loss: 0.4882 - val_acc: 0.8241\n",
      "Epoch 3/5\n",
      "37823/37823 [==============================] - 137s 4ms/sample - loss: 0.4683 - acc: 0.8380 - val_loss: 0.4668 - val_acc: 0.8451\n",
      "Epoch 4/5\n",
      "37823/37823 [==============================] - 136s 4ms/sample - loss: 0.4279 - acc: 0.8516 - val_loss: 0.4250 - val_acc: 0.8470\n",
      "Epoch 5/5\n",
      "37823/37823 [==============================] - 136s 4ms/sample - loss: 0.3993 - acc: 0.8624 - val_loss: 0.4555 - val_acc: 0.8455\n"
     ]
    }
   ],
   "source": [
    "# Build the model\n",
    "print('Build model...')\n",
    "lstm_model = Sequential()\n",
    "lstm_model.add(layers.LSTM(256, return_sequences=True, input_shape=(x_train.shape[1],x_train.shape[2])))\n",
    "lstm_model.add(layers.BatchNormalization())\n",
    "lstm_model.add(layers.Dropout(0.5))\n",
    "lstm_model.add(layers.LSTM(512, return_sequences=True))\n",
    "lstm_model.add(layers.Dropout(0.5))\n",
    "lstm_model.add(layers.BatchNormalization())\n",
    "lstm_model.add(layers.LSTM(256))\n",
    "lstm_model.add(layers.Dropout(0.5))\n",
    "lstm_model.add(layers.Dense(256))\n",
    "lstm_model.add(layers.Dense(units=len(labels)))\n",
    "lstm_model.add(layers.Activation('softmax'))\n",
    "lstm_model.compile(loss='categorical_crossentropy', optimizer='adam', metrics=['acc'])\n",
    "\n",
    "batch_size=32\n",
    "history = lstm_model.fit(x_train, y_train, batch_size=batch_size, shuffle=True, epochs=5, validation_data=(x_test, y_test))"
   ]
  },
  {
   "cell_type": "code",
   "execution_count": 12,
   "metadata": {},
   "outputs": [],
   "source": [
    "\n",
    "# predict test data\n",
    "lstm_y_pred = lstm_model.predict([x_test])\n",
    "lstm_pred_label = prepare_training_data.one_hot_to_labels(lstm_y_pred)"
   ]
  },
  {
   "cell_type": "code",
   "execution_count": 19,
   "metadata": {},
   "outputs": [
    {
     "name": "stdout",
     "output_type": "stream",
     "text": [
      "Build model...\n",
      "12053/12053 [==============================] - 26s 2ms/sample - loss: 2.0737 - acc: 0.0975\n",
      "Train on 37823 samples, validate on 12053 samples\n",
      "Epoch 1/5\n",
      "37823/37823 [==============================] - 206s 5ms/sample - loss: 0.8005 - acc: 0.7101 - val_loss: 0.7415 - val_acc: 0.7367\n",
      "Epoch 2/5\n",
      "37823/37823 [==============================] - 202s 5ms/sample - loss: 0.5990 - acc: 0.7821 - val_loss: 0.5914 - val_acc: 0.7985\n",
      "Epoch 3/5\n",
      "37823/37823 [==============================] - 200s 5ms/sample - loss: 0.4952 - acc: 0.8227 - val_loss: 0.5394 - val_acc: 0.8197\n",
      "Epoch 4/5\n",
      "37823/37823 [==============================] - 209s 6ms/sample - loss: 0.4466 - acc: 0.8445 - val_loss: 0.4574 - val_acc: 0.8476\n",
      "Epoch 5/5\n",
      "37823/37823 [==============================] - 211s 6ms/sample - loss: 0.4184 - acc: 0.8553 - val_loss: 0.4629 - val_acc: 0.8390\n"
     ]
    }
   ],
   "source": [
    "# Build the model\n",
    "print('Build model...')\n",
    "\n",
    "vector_window_input = layers.Input(shape=(x_train.shape[1], x_train.shape[2]))\n",
    "vw = layers.LSTM(256, return_sequences=True)(vector_window_input)\n",
    "vw = layers.Dropout(0.5)(vw)\n",
    "vw = layers.BatchNormalization()(vw)\n",
    "vw = layers.LSTM(512, return_sequences=True)(vw)\n",
    "vw = layers.Dropout(0.5)(vw)\n",
    "vw = layers.BatchNormalization()(vw)\n",
    "vw = layers.LSTM(512)(vw)\n",
    "vw = layers.Dropout(0.5)(vw)\n",
    "vw = layers.BatchNormalization()(vw)\n",
    "vw = layers.Dense(128, activation='relu')(vw)\n",
    "\n",
    "wf_input = layers.Input(shape=(len(wf_train[0])))\n",
    "f = layers.Dense(512, activation='relu')(wf_input)\n",
    "f = layers.Dropout(0.5)(f)\n",
    "f = layers.Dense(256, activation='relu')(f)\n",
    "\n",
    "x = layers.concatenate([vw, f])\n",
    "x = layers.Dense(128, activation='relu')(x)\n",
    "x = layers.Dense(64, activation='relu')(x)\n",
    "x = layers.Dense(32, activation='relu')(x)\n",
    "\n",
    "out = layers.Dense(units=len(labels), activation='softmax')(x)\n",
    "wf_model = models.Model(inputs=[vector_window_input, wf_input], outputs=[out])\n",
    "\n",
    "wf_model.compile(loss='categorical_crossentropy', optimizer='adam', metrics=['acc'])\n",
    "\n",
    "wf_model.evaluate(x=[x_test, wf_test], y=y_test)\n",
    "\n",
    "batch_size=32\n",
    "history = wf_model.fit([x_train, wf_train], y_train, batch_size=batch_size, shuffle=True, epochs=5, validation_data=([x_test, wf_test], y_test))\n"
   ]
  },
  {
   "cell_type": "code",
   "execution_count": 20,
   "metadata": {},
   "outputs": [],
   "source": [
    "# predict test data\n",
    "wf_y_pred = wf_model.predict([x_test, wf_test])\n",
    "wf_pred_label = prepare_training_data.one_hot_to_labels(wf_y_pred)"
   ]
  },
  {
   "cell_type": "code",
   "execution_count": 21,
   "metadata": {},
   "outputs": [],
   "source": [
    "pred_label = []\n",
    "for i in range(len(x_test)):\n",
    "    curr_labels = [lstm_pred_label[i], all_pred_label[i], wf_pred_label[i]]\n",
    "    if(curr_labels.count(lstm_pred_label[i] >= 2)): pred_label.append(lstm_pred_label[i])\n",
    "    elif(curr_labels.count(all_pred_label[i] >= 2)): pred_label.append(all_pred_label[i])\n",
    "    elif(curr_labels.count(wf_pred_label[i] >= 2)): pred_label.append(wf_pred_label[i])\n",
    "    else: pred_label.append(wf_pred_label[i])"
   ]
  },
  {
   "cell_type": "code",
   "execution_count": 22,
   "metadata": {},
   "outputs": [
    {
     "name": "stdout",
     "output_type": "stream",
     "text": [
      "|           |   Ausbildung |    Beruf |   allgemein |   berufsspez |   Sprache |   Technologie |   Softskill |   noSkill |\n",
      "|-----------+--------------+----------+-------------+--------------+-----------+---------------+-------------+-----------|\n",
      "| precision |     0.682581 | 0.5      |    0.519337 |     0.646947 |  0.971564 |      0.742038 |    0.699153 |  0.937027 |\n",
      "| recall    |     0.958333 | 0.203125 |    0.263675 |     0.633645 |  0.927602 |      0.901935 |    0.91922  |  0.898958 |\n",
      "| f1        |     0.797287 | 0.288889 |    0.349767 |     0.640227 |  0.949074 |      0.814211 |    0.794224 |  0.917598 |\n",
      "f1 average:  0.6939095950606413\n",
      "f1 average:  0.6141007888329725\n",
      "Precision average:  0.7123307910089202\n",
      "recall average:  0.7133116347633474\n",
      "acc 0.8393760889405127\n"
     ]
    }
   ],
   "source": [
    "# Calc metrics for test data\n",
    "import sklearn\n",
    "from sklearn.metrics import precision_score, recall_score, accuracy_score\n",
    "from tabulate import tabulate\n",
    "label_list = list(labels.keys())\n",
    "\n",
    "headers = [l for l in label_list ]\n",
    "headers = [' '] + headers\n",
    "\n",
    "table=[['precision'] + list(precision_score(true_label, pred_label, average=None)), \n",
    "       ['recall']+list(recall_score(true_label, pred_label, average=None)), \n",
    "       ['f1']+ list(sklearn.metrics.f1_score(true_label, pred_label, average=None))]\n",
    "\n",
    "print(tabulate(table, headers=headers, tablefmt='orgtbl'))\n",
    "f1 = sklearn.metrics.f1_score(true_label, pred_label, average=None)\n",
    "f1 = np.delete(f1, 4)\n",
    "f1 = np.delete(f1, 6)\n",
    "print('f1 average: ',sum(sklearn.metrics.f1_score(true_label, pred_label, average=None))/len(list(precision_score(true_label, pred_label, average=None))))\n",
    "print('f1 average: ',sum(f1)/6)\n",
    "print('Precision average: ',sum(precision_score(true_label, pred_label, average=None)/8))\n",
    "print('recall average: ',sum(recall_score(true_label, pred_label, average=None)/8))\n",
    "print('acc', sklearn.metrics.accuracy_score(true_label, pred_label))"
   ]
  },
  {
   "cell_type": "code",
   "execution_count": 23,
   "metadata": {},
   "outputs": [],
   "source": [
    "wf_prob = wf_model.predict([x_test, wf_test])\n",
    "lstm_prob = lstm_model.predict_proba([x_test])\n",
    "all_prob = all_model.predict([x_test, wf_test, pos_test, bg_test])"
   ]
  },
  {
   "cell_type": "code",
   "execution_count": 24,
   "metadata": {},
   "outputs": [],
   "source": [
    "pred_label2 = []\n",
    "probabilities = []\n",
    "for i in range(len(x_test)):\n",
    "    probs = [0] * len(labels)\n",
    "    items = [lstm_prob[i], all_prob[i], wf_prob[i]]\n",
    "    stats = {}\n",
    "    for net in range(len(items)):\n",
    "        for index in range(len(items[net])):\n",
    "            probs[index] += items[net][index]\n",
    "    pred_label2.append(probs.index(max(probs)))"
   ]
  },
  {
   "cell_type": "code",
   "execution_count": 25,
   "metadata": {},
   "outputs": [
    {
     "name": "stdout",
     "output_type": "stream",
     "text": [
      "|           |   Ausbildung |    Beruf |   allgemein |   berufsspez |   Sprache |   Technologie |   Softskill |   noSkill |\n",
      "|-----------+--------------+----------+-------------+--------------+-----------+---------------+-------------+-----------|\n",
      "| precision |     0.769585 | 0.367347 |    0.602817 |     0.631886 |  0.981221 |      0.777778 |    0.755725 |  0.94144  |\n",
      "| recall    |     0.907609 | 0.28125  |    0.30014  |     0.707477 |  0.945701 |      0.903226 |    0.91922  |  0.916106 |\n",
      "| f1        |     0.832918 | 0.318584 |    0.400749 |     0.667549 |  0.963134 |      0.835821 |    0.829493 |  0.9286   |\n",
      "f1 average:  0.7221058806177479\n",
      "f1 average:  0.6475188873607266\n",
      "Precision average:  0.7284748508243106\n",
      "recall average:  0.7350911072323504\n",
      "acc 0.8573799054177383\n"
     ]
    }
   ],
   "source": [
    "# Calc metrics for test data\n",
    "import sklearn\n",
    "from sklearn.metrics import precision_score, recall_score, accuracy_score\n",
    "from tabulate import tabulate\n",
    "label_list = list(labels.keys())\n",
    "\n",
    "headers = [l for l in label_list ]\n",
    "headers = [' '] + headers\n",
    "\n",
    "table=[['precision'] + list(precision_score(true_label, pred_label2, average=None)), \n",
    "       ['recall']+list(recall_score(true_label, pred_label2, average=None)), \n",
    "       ['f1']+ list(sklearn.metrics.f1_score(true_label, pred_label2, average=None))]\n",
    "\n",
    "print(tabulate(table, headers=headers, tablefmt='orgtbl'))\n",
    "f1 = sklearn.metrics.f1_score(true_label, pred_label2, average=None)\n",
    "f1 = np.delete(f1, 4)\n",
    "f1 = np.delete(f1, 6)\n",
    "print('f1 average: ',sum(sklearn.metrics.f1_score(true_label, pred_label2, average=None))/len(list(precision_score(true_label, pred_label2, average=None))))\n",
    "print('f1 average: ',sum(f1)/6)\n",
    "print('Precision average: ',sum(precision_score(true_label, pred_label2, average=None)/8))\n",
    "print('recall average: ',sum(recall_score(true_label, pred_label2, average=None)/8))\n",
    "print('acc', sklearn.metrics.accuracy_score(true_label, pred_label2))"
   ]
  }
 ],
 "metadata": {
  "kernelspec": {
   "display_name": "Python 3",
   "language": "python",
   "name": "python3"
  },
  "language_info": {
   "codemirror_mode": {
    "name": "ipython",
    "version": 3
   },
   "file_extension": ".py",
   "mimetype": "text/x-python",
   "name": "python",
   "nbconvert_exporter": "python",
   "pygments_lexer": "ipython3",
   "version": "3.6.9"
  }
 },
 "nbformat": 4,
 "nbformat_minor": 4
}
