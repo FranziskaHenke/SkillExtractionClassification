{
 "cells": [
  {
   "cell_type": "code",
   "execution_count": null,
   "metadata": {
    "scrolled": true
   },
   "outputs": [],
   "source": [
    "import sys\n",
    "import os\n",
    "sys.path.append('/home/franzi/anzeigendaten/python_base/skillextraktion/fh_ma')\n",
    "sys.path.append('/home/franzi/anzeigendaten/EnvPython')\n",
    "import prepare_training_data\n",
    "from labels import *\n",
    "import time\n",
    "import warnings\n",
    "warnings.filterwarnings('ignore')\n",
    "\n",
    "from sklearn.utils import shuffle\n",
    "\n",
    "start = time.time()\n",
    "x_train, y_train, x_test, y_test, test_afks, features = prepare_training_data.get_training_data(window=4, pos=True, word_features=True, stopwords=False, punc_marks=False)\n",
    "print('took: ',time.time()-start)"
   ]
  },
  {
   "cell_type": "code",
   "execution_count": null,
   "metadata": {},
   "outputs": [],
   "source": [
    "import numpy as np\n",
    "for i,f in enumerate(features):\n",
    "    features[i] = np.array(f)\n",
    "pos_test, wf_test, bg_test, pos_train, wf_train, bg_train,  _, _, _ = features\n",
    "\n",
    "print(wf_train[0]) # Abgeschlossene\n",
    "print(pos_train[0]) # ADJA first\n"
   ]
  },
  {
   "cell_type": "code",
   "execution_count": 5,
   "metadata": {},
   "outputs": [],
   "source": [
    "from tensorflow.keras import *"
   ]
  },
  {
   "cell_type": "code",
   "execution_count": 7,
   "metadata": {},
   "outputs": [],
   "source": [
    "wf_test = np.reshape(wf_test, (wf_test.shape[0], wf_test.shape[2]))\n",
    "wf_train = np.reshape(wf_train, (wf_train.shape[0], wf_train.shape[2]))"
   ]
  },
  {
   "cell_type": "code",
   "execution_count": 9,
   "metadata": {},
   "outputs": [],
   "source": [
    "pos_test = np.reshape(pos_test, (pos_test.shape[0], pos_test.shape[2]))\n",
    "pos_train = np.reshape(pos_train, (pos_train.shape[0], pos_train.shape[2]))"
   ]
  },
  {
   "cell_type": "code",
   "execution_count": 10,
   "metadata": {},
   "outputs": [
    {
     "name": "stdout",
     "output_type": "stream",
     "text": [
      "Build model...\n",
      "12053/12053 [==============================] - 25s 2ms/sample - loss: 2.0994 - acc: 0.0617\n",
      "Train on 37823 samples, validate on 12053 samples\n"
     ]
    },
    {
     "name": "stderr",
     "output_type": "stream",
     "text": [
      "2020-08-19 13:27:03 WARNING: From /home/franzi/.local/lib/python3.6/site-packages/tensorflow/python/ops/math_grad.py:1250: add_dispatch_support.<locals>.wrapper (from tensorflow.python.ops.array_ops) is deprecated and will be removed in a future version.\n",
      "Instructions for updating:\n",
      "Use tf.where in 2.0, which has the same broadcast rule as np.where\n"
     ]
    },
    {
     "name": "stdout",
     "output_type": "stream",
     "text": [
      "Epoch 1/5\n",
      "37823/37823 [==============================] - 200s 5ms/sample - loss: 0.7783 - acc: 0.7172 - val_loss: 0.6696 - val_acc: 0.7607\n",
      "Epoch 2/5\n",
      "37823/37823 [==============================] - 201s 5ms/sample - loss: 0.5877 - acc: 0.7870 - val_loss: 0.5281 - val_acc: 0.8153\n",
      "Epoch 3/5\n",
      "37823/37823 [==============================] - 203s 5ms/sample - loss: 0.4737 - acc: 0.8345 - val_loss: 0.4568 - val_acc: 0.8477\n",
      "Epoch 4/5\n",
      "37823/37823 [==============================] - 203s 5ms/sample - loss: 0.4341 - acc: 0.8506 - val_loss: 0.4353 - val_acc: 0.8517\n",
      "Epoch 5/5\n",
      "37823/37823 [==============================] - 204s 5ms/sample - loss: 0.4117 - acc: 0.8570 - val_loss: 0.4231 - val_acc: 0.8529\n"
     ]
    }
   ],
   "source": [
    "# Build the model\n",
    "print('Build model...')\n",
    "\n",
    "vector_window_input = layers.Input(shape=(x_train.shape[1], x_train.shape[2]))\n",
    "vw = layers.LSTM(256, return_sequences=True)(vector_window_input)\n",
    "vw = layers.Dropout(0.5)(vw)\n",
    "vw = layers.BatchNormalization()(vw)\n",
    "vw = layers.LSTM(512, return_sequences=True)(vw)\n",
    "vw = layers.Dropout(0.5)(vw)\n",
    "vw = layers.BatchNormalization()(vw)\n",
    "vw = layers.LSTM(512)(vw)\n",
    "vw = layers.Dropout(0.5)(vw)\n",
    "vw = layers.BatchNormalization()(vw)\n",
    "vw = layers.Dense(128, activation='relu')(vw)\n",
    "\n",
    "wf_input = layers.Input(shape=(len(wf_train[0])))\n",
    "f = layers.Dense(512, activation='relu')(wf_input)\n",
    "f = layers.Dropout(0.5)(f)\n",
    "f = layers.Dense(256, activation='relu')(f)\n",
    "\n",
    "pos_input = layers.Input(shape=(len(pos_train[0])))\n",
    "p = layers.Dense(512, activation='relu')(pos_input)\n",
    "p = layers.Dropout(0.5)(p)\n",
    "p = layers.Dense(256, activation='relu')(p)\n",
    "\n",
    "x = layers.concatenate([vw, f, p])\n",
    "x = layers.Dense(128, activation='relu')(x)\n",
    "x = layers.Dense(64, activation='relu')(x)\n",
    "x = layers.Dense(32, activation='relu')(x)\n",
    "\n",
    "out = layers.Dense(units=len(labels), activation='softplus')(x)\n",
    "model = models.Model(inputs=[vector_window_input, wf_input, pos_input], outputs=[out])\n",
    "\n",
    "model.compile(loss='categorical_crossentropy', optimizer='adam', metrics=['acc'])\n",
    "\n",
    "model.evaluate(x=[x_test, wf_test, pos_test], y=y_test)\n",
    "\n",
    "batch_size=32\n",
    "history = model.fit([x_train, wf_train, pos_train], y_train, batch_size=batch_size, shuffle=True, epochs=5, validation_data=([x_test, wf_test, pos_test], y_test))"
   ]
  },
  {
   "cell_type": "code",
   "execution_count": 11,
   "metadata": {},
   "outputs": [
    {
     "data": {
      "image/png": "[encoded data removed]",
      "text/plain": [
       "<Figure size 432x288 with 1 Axes>"
      ]
     },
     "metadata": {
      "needs_background": "light"
     },
     "output_type": "display_data"
    }
   ],
   "source": [
    "from matplotlib import pyplot as plt\n",
    "plt.plot(np.arange(1, len(history.history['acc'])+1), history.history['acc'])\n",
    "plt.plot(np.arange(1, len(history.history['acc'])+1), history.history['val_acc'])\n",
    "plt.title('model accuracy')\n",
    "plt.ylabel('accuracy')\n",
    "plt.xlabel('epoch')\n",
    "plt.ylim(0,1)\n",
    "plt.xticks(np.arange(1, len(history.history['acc'])+1))\n",
    "plt.legend(['train', 'val'], loc='upper left')\n",
    "plt.show()\n"
   ]
  },
  {
   "cell_type": "code",
   "execution_count": 12,
   "metadata": {},
   "outputs": [],
   "source": [
    "# predict test data\n",
    "y_pred = model.predict([x_test, wf_test, pos_test])"
   ]
  },
  {
   "cell_type": "code",
   "execution_count": null,
   "metadata": {},
   "outputs": [],
   "source": [
    "import numpy as np\n",
    "# convert one hot to labels for test data\n",
    "pred_label = prepare_training_data.one_hot_to_labels(y_pred)\n",
    "true_label = prepare_training_data.one_hot_to_labels(y_test)"
   ]
  },
  {
   "cell_type": "code",
   "execution_count": 18,
   "metadata": {},
   "outputs": [
    {
     "name": "stdout",
     "output_type": "stream",
     "text": [
      "|           |   Ausbildung |   Beruf |   allgemein |   berufsspez |   Sprache |   Technologie |   Softskill |   noSkill |\n",
      "|-----------+--------------+---------+-------------+--------------+-----------+---------------+-------------+-----------|\n",
      "| precision |     0.806612 |       0 |    0.506    |     0.623707 |  0.980769 |      0.75983  |    0.812963 |  0.932458 |\n",
      "| recall    |     0.884058 |       0 |    0.354839 |     0.73271  |  0.923077 |      0.922581 |    0.815227 |  0.917821 |\n",
      "| f1        |     0.843561 |       0 |    0.417148 |     0.673829 |  0.951049 |      0.833333 |    0.814094 |  0.925081 |\n",
      "f1 average:  0.6822618539983203\n",
      "f1 average:  0.596994074618809\n",
      "Precision average:  0.6777923447093128\n",
      "recall average:  0.6937891101268113\n",
      "acc 0.852899693022484\n"
     ]
    }
   ],
   "source": [
    "# Calc metrics for test data\n",
    "import sklearn\n",
    "from sklearn.metrics import precision_score, recall_score, accuracy_score\n",
    "from tabulate import tabulate\n",
    "label_list = list(labels.keys())\n",
    "\n",
    "headers = [l for l in label_list ]\n",
    "headers = [' '] + headers\n",
    "\n",
    "table=[['precision'] + list(precision_score(true_label, pred_label, average=None)), \n",
    "       ['recall']+list(recall_score(true_label, pred_label, average=None)), \n",
    "       ['f1']+ list(sklearn.metrics.f1_score(true_label, pred_label, average=None))]\n",
    "\n",
    "print(tabulate(table, headers=headers, tablefmt='orgtbl'))\n",
    "f1 = sklearn.metrics.f1_score(true_label, pred_label, average=None)\n",
    "f1 = np.delete(f1, 4)\n",
    "f1 = np.delete(f1, 6)\n",
    "print('f1 average: ',sum(sklearn.metrics.f1_score(true_label, pred_label, average=None))/len(list(precision_score(true_label, pred_label, average=None))))\n",
    "print('f1 average: ',sum(f1)/6)\n",
    "print('Precision average: ',sum(precision_score(true_label, pred_label, average=None)/8))\n",
    "print('recall average: ',sum(recall_score(true_label, pred_label, average=None)/8))\n",
    "print('acc', sklearn.metrics.accuracy_score(true_label, pred_label))"
   ]
  },
  {
   "cell_type": "code",
   "execution_count": 15,
   "metadata": {},
   "outputs": [
    {
     "data": {
      "text/plain": [
       "<matplotlib.axes._subplots.AxesSubplot at 0x7f831d2cf908>"
      ]
     },
     "execution_count": 15,
     "metadata": {},
     "output_type": "execute_result"
    },
    {
     "data": {
      "image/png": "[encoded data removed]",
      "text/plain": [
       "<Figure size 720x504 with 2 Axes>"
      ]
     },
     "metadata": {
      "needs_background": "light"
     },
     "output_type": "display_data"
    }
   ],
   "source": [
    "# Create Confusion Matrix\n",
    "\n",
    "import sklearn\n",
    "import seaborn as sn\n",
    "import pandas as pd\n",
    "import matplotlib.pyplot as plt\n",
    "\n",
    "cm = sklearn.metrics.confusion_matrix(true_label, pred_label)\n",
    "df_cm = pd.DataFrame(cm, labels,columns = labels)\n",
    "plt.figure(figsize = (10,7))\n",
    "plt.ylabel('Eingabe')\n",
    "plt.xlabel('Ausgabe')\n",
    "sn.heatmap(df_cm, annot=True,fmt='g')"
   ]
  }
 ],
 "metadata": {
  "kernelspec": {
   "display_name": "Python 3",
   "language": "python",
   "name": "python3"
  },
  "language_info": {
   "codemirror_mode": {
    "name": "ipython",
    "version": 3
   },
   "file_extension": ".py",
   "mimetype": "text/x-python",
   "name": "python",
   "nbconvert_exporter": "python",
   "pygments_lexer": "ipython3",
   "version": "3.6.9"
  }
 },
 "nbformat": 4,
 "nbformat_minor": 4
}
