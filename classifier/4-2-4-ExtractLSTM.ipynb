{
 "cells": [
  {
   "cell_type": "code",
   "execution_count": 1,
   "metadata": {
    "scrolled": true
   },
   "outputs": [
    {
     "name": "stdout",
     "output_type": "stream",
     "text": [
      "20861874\n",
      "0\n",
      "skipgram, punctuation_marks, stoppwords, multiword, lower_case, vector_dim True False False False False 100\n",
      "init /home/franzi/Documents/models/no_pm_no_sw_vecDim100/skip_gram_model.model\n",
      "loading existing w2v model from  /home/franzi/Documents/models/no_pm_no_sw_vecDim100/skip_gram_model.model\n",
      "using data from  /home/franzi/Documents/data/data_noSkill_4_vecDim100\n",
      "loading data...\n",
      "37823 37823 12053 12053 0 0\n",
      "took:  3.5316412448883057\n"
     ]
    }
   ],
   "source": [
    "import sys\n",
    "import os\n",
    "sys.path.append('/home/franzi/anzeigendaten/python_base/skillextraktion/fh_ma')\n",
    "sys.path.append('/home/franzi/anzeigendaten/EnvPython')\n",
    "import prepare_training_data\n",
    "from labels import *\n",
    "import time\n",
    "import warnings\n",
    "warnings.filterwarnings('ignore')\n",
    "\n",
    "from sklearn.utils import shuffle\n",
    "\n",
    "start = time.time()\n",
    "x_train, y_train, x_test, y_test, test_afks, features = prepare_training_data.get_training_data(noSkill=True)\n",
    "print('took: ',time.time()-start)"
   ]
  },
  {
   "cell_type": "code",
   "execution_count": null,
   "metadata": {},
   "outputs": [],
   "source": [
    "y_label = prepare_training_data.one_hot_to_labels(y_test)"
   ]
  },
  {
   "cell_type": "code",
   "execution_count": null,
   "metadata": {},
   "outputs": [],
   "source": [
    "import numpy as np\n",
    "label_y = prepare_training_data.one_hot_to_labels(y_train)"
   ]
  },
  {
   "cell_type": "code",
   "execution_count": 5,
   "metadata": {},
   "outputs": [],
   "source": [
    "from tensorflow.keras import *"
   ]
  },
  {
   "cell_type": "code",
   "execution_count": 6,
   "metadata": {},
   "outputs": [
    {
     "name": "stderr",
     "output_type": "stream",
     "text": [
      "2020-08-12 14:59:25 WARNING: From /home/franzi/.local/lib/python3.6/site-packages/tensorflow/python/ops/init_ops.py:1251: calling VarianceScaling.__init__ (from tensorflow.python.ops.init_ops) with dtype is deprecated and will be removed in a future version.\n",
      "Instructions for updating:\n",
      "Call initializer instance with the dtype argument instead of passing it to the constructor\n"
     ]
    },
    {
     "name": "stdout",
     "output_type": "stream",
     "text": [
      "Build model...\n",
      "12053/12053 [==============================] - 25s 2ms/sample - loss: 0.6932 - acc: 0.4999\n",
      "Train on 37823 samples, validate on 12053 samples\n"
     ]
    },
    {
     "name": "stderr",
     "output_type": "stream",
     "text": [
      "2020-08-12 14:59:54 WARNING: From /home/franzi/.local/lib/python3.6/site-packages/tensorflow/python/ops/math_grad.py:1250: add_dispatch_support.<locals>.wrapper (from tensorflow.python.ops.array_ops) is deprecated and will be removed in a future version.\n",
      "Instructions for updating:\n",
      "Use tf.where in 2.0, which has the same broadcast rule as np.where\n"
     ]
    },
    {
     "name": "stdout",
     "output_type": "stream",
     "text": [
      "Epoch 1/3\n",
      "37823/37823 [==============================] - 317s 8ms/sample - loss: 0.4881 - acc: 0.7559 - val_loss: 0.3551 - val_acc: 0.8533\n",
      "Epoch 2/3\n",
      "37823/37823 [==============================] - 307s 8ms/sample - loss: 0.3032 - acc: 0.8773 - val_loss: 0.2619 - val_acc: 0.8962\n",
      "Epoch 3/3\n",
      "37823/37823 [==============================] - 315s 8ms/sample - loss: 0.2592 - acc: 0.8984 - val_loss: 0.2525 - val_acc: 0.9036\n"
     ]
    }
   ],
   "source": [
    "# Build the model\n",
    "print('Build model...')\n",
    "model = Sequential()\n",
    "model.add(layers.LSTM(256, return_sequences=True, input_shape=(x_train.shape[1],x_train.shape[2])))\n",
    "model.add(layers.Dropout(0.5))\n",
    "model.add(layers.BatchNormalization())\n",
    "model.add(layers.LSTM(512, return_sequences=True))\n",
    "model.add(layers.Dropout(0.5))\n",
    "model.add(layers.BatchNormalization())\n",
    "model.add(layers.LSTM(256, return_sequences=True))\n",
    "model.add(layers.Dropout(0.5))\n",
    "model.add(layers.BatchNormalization())\n",
    "model.add(layers.LSTM(256))\n",
    "model.add(layers.Dropout(0.5))\n",
    "model.add(layers.Dense(256))\n",
    "model.add(layers.Dense(256))\n",
    "model.add(layers.Dense(units=2))\n",
    "model.add(layers.Activation('softmax'))\n",
    "model.compile(loss='categorical_crossentropy', optimizer='adam', metrics=['acc'])\n",
    "\n",
    "\n",
    "model.evaluate(x=x_test, y=y_test)\n",
    "\n",
    "batch_size=32\n",
    "history = model.fit(x_train, y_train, batch_size=batch_size, shuffle=True, epochs=3, validation_data=(x_test, y_test))"
   ]
  },
  {
   "cell_type": "code",
   "execution_count": 7,
   "metadata": {},
   "outputs": [
    {
     "data": {
      "image/png": "[encoded data removed]",
      "text/plain": [
       "<Figure size 432x288 with 1 Axes>"
      ]
     },
     "metadata": {
      "needs_background": "light"
     },
     "output_type": "display_data"
    }
   ],
   "source": [
    "from matplotlib import pyplot as plt\n",
    "plt.plot(history.history['acc'])\n",
    "plt.plot(history.history['val_acc'])\n",
    "plt.title('model accuracy')\n",
    "plt.ylabel('accuracy')\n",
    "plt.ylim(0,1)\n",
    "plt.xlabel('epoch')\n",
    "plt.legend(['train', 'val'], loc='upper left')\n",
    "plt.show()\n"
   ]
  },
  {
   "cell_type": "code",
   "execution_count": 8,
   "metadata": {},
   "outputs": [],
   "source": [
    "\n",
    "# predict test data\n",
    "y_pred = model.predict(x_test)"
   ]
  },
  {
   "cell_type": "code",
   "execution_count": null,
   "metadata": {},
   "outputs": [],
   "source": [
    "import numpy as np\n",
    "# convert one hot to labels for test data\n",
    "pred_label = prepare_training_data.one_hot_to_labels(y_pred)\n",
    "true_label = prepare_training_data.one_hot_to_labels(y_test)"
   ]
  },
  {
   "cell_type": "code",
   "execution_count": 10,
   "metadata": {},
   "outputs": [
    {
     "data": {
      "text/plain": [
       "<matplotlib.axes._subplots.AxesSubplot at 0x7fb2254ca400>"
      ]
     },
     "execution_count": 10,
     "metadata": {},
     "output_type": "execute_result"
    },
    {
     "data": {
      "image/png": "[encoded data removed]",
      "text/plain": [
       "<Figure size 720x504 with 2 Axes>"
      ]
     },
     "metadata": {
      "needs_background": "light"
     },
     "output_type": "display_data"
    }
   ],
   "source": [
    "# Create Confusion Matrix\n",
    "\n",
    "import sklearn\n",
    "import seaborn as sn\n",
    "import pandas as pd\n",
    "import matplotlib.pyplot as plt\n",
    "\n",
    "labelsi = list(labels)\n",
    "\n",
    "cm = sklearn.metrics.confusion_matrix(true_label, pred_label)\n",
    "df_cm = pd.DataFrame(cm, ['skill', 'noSkill'],columns = ['skill', 'noSkill'])\n",
    "plt.figure(figsize = (10,7))\n",
    "plt.ylabel('Eingabe')\n",
    "plt.xlabel('Ausgabe')\n",
    "sn.heatmap(df_cm, annot=True,fmt='g')"
   ]
  },
  {
   "cell_type": "code",
   "execution_count": 11,
   "metadata": {},
   "outputs": [
    {
     "name": "stdout",
     "output_type": "stream",
     "text": [
      "|           |    skill |   noSkill |\n",
      "|-----------+----------+-----------|\n",
      "| precision | 0.870845 |  0.922773 |\n",
      "| recall    | 0.868504 |  0.924232 |\n",
      "| f1        | 0.869672 |  0.923502 |\n",
      "f1 average:  0.8965874015129431\n",
      "acc 0.9035924666058243\n"
     ]
    }
   ],
   "source": [
    "# Calc metrics for test data\n",
    "import sklearn\n",
    "from sklearn.metrics import precision_score, recall_score\n",
    "from tabulate import tabulate\n",
    "\n",
    "headers = [' '] + ['skill', 'noSkill']\n",
    "\n",
    "table=[['precision'] + list(precision_score(true_label, pred_label, average=None)), \n",
    "       ['recall']+list(recall_score(true_label, pred_label, average=None)), \n",
    "       ['f1']+ list(sklearn.metrics.f1_score(true_label, pred_label, average=None))]\n",
    "\n",
    "print(tabulate(table, headers=headers, tablefmt='orgtbl'))\n",
    "f1 = sklearn.metrics.f1_score(true_label, pred_label, average=None)\n",
    "print('f1 average: ',sum(sklearn.metrics.f1_score(true_label, pred_label, average=None))/len(list(precision_score(true_label, pred_label, average=None))))\n",
    "print('acc', sklearn.metrics.accuracy_score(true_label, pred_label))"
   ]
  }
 ],
 "metadata": {
  "kernelspec": {
   "display_name": "Python 3",
   "language": "python",
   "name": "python3"
  },
  "language_info": {
   "codemirror_mode": {
    "name": "ipython",
    "version": 3
   },
   "file_extension": ".py",
   "mimetype": "text/x-python",
   "name": "python",
   "nbconvert_exporter": "python",
   "pygments_lexer": "ipython3",
   "version": "3.6.9"
  }
 },
 "nbformat": 4,
 "nbformat_minor": 4
}
